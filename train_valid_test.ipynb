{
 "cells": [
  {
   "cell_type": "code",
   "execution_count": 1,
   "id": "b62d8555",
   "metadata": {},
   "outputs": [],
   "source": [
    "import pandas as pd\n",
    "import numpy as np\n",
    "import seaborn as sns\n",
    "import matplotlib.pyplot as plt\n",
    "import warnings"
   ]
  },
  {
   "cell_type": "code",
   "execution_count": 2,
   "id": "9f6344d0",
   "metadata": {},
   "outputs": [],
   "source": [
    "warnings.filterwarnings('ignore')"
   ]
  },
  {
   "cell_type": "code",
   "execution_count": 3,
   "id": "fc82c248",
   "metadata": {},
   "outputs": [],
   "source": [
    "feature_monthly_ = pd.read_csv('./tmp/feature_monthly_.csv',encoding='gbk',index_col=0)"
   ]
  },
  {
   "cell_type": "code",
   "execution_count": 4,
   "id": "b41d7f18",
   "metadata": {},
   "outputs": [],
   "source": [
    "data_test = pd.read_csv('./test.csv')"
   ]
  },
  {
   "cell_type": "code",
   "execution_count": 5,
   "id": "9d432109",
   "metadata": {},
   "outputs": [],
   "source": [
    "# 使用滞后平移操作，丢弃了前三个月的数据\n",
    "train_set = feature_monthly_.query('date_block_num >= 3 and date_block_num < 28').copy()\n",
    "validation_set = feature_monthly_.query('date_block_num >= 28 and date_block_num < 33').copy()\n",
    "test_set = feature_monthly_.query('date_block_num == 33').copy()\n",
    " \n",
    "train_set.dropna(subset=['item_cnt_month'], inplace=True)\n",
    "validation_set.dropna(subset=['item_cnt_month'], inplace=True)\n",
    " \n",
    "train_set.dropna(inplace=True)\n",
    "validation_set.dropna(inplace=True)"
   ]
  },
  {
   "cell_type": "markdown",
   "id": "298e12af",
   "metadata": {},
   "source": [
    "对商店，商品，年和月构造销量的均值特征"
   ]
  },
  {
   "cell_type": "code",
   "execution_count": 6,
   "id": "7bdfd56f",
   "metadata": {},
   "outputs": [],
   "source": [
    "# Shop mean\n",
    "gp_shop_mean = train_set.groupby(['shop_id']).agg({'item_cnt_month': ['mean']})\n",
    "gp_shop_mean.columns = ['shop_mean']\n",
    "gp_shop_mean.reset_index(inplace=True)\n",
    "# Item mean\n",
    "gp_item_mean = train_set.groupby(['item_id']).agg({'item_cnt_month': ['mean']})\n",
    "gp_item_mean.columns = ['item_mean']\n",
    "gp_item_mean.reset_index(inplace=True)\n",
    "# Shop with item mean encoding.\n",
    "gp_shop_item_mean = train_set.groupby(['shop_id', 'item_id']).agg({'item_cnt_month': ['mean']})\n",
    "gp_shop_item_mean.columns = ['shop_item_mean']\n",
    "gp_shop_item_mean.reset_index(inplace=True)\n",
    "# Year mean \n",
    "gp_year_mean = train_set.groupby(['year']).agg({'item_cnt_month': ['mean']})\n",
    "gp_year_mean.columns = ['year_mean']\n",
    "gp_year_mean.reset_index(inplace=True)\n",
    "# Month mean\n",
    "gp_month_mean = train_set.groupby(['month']).agg({'item_cnt_month': ['mean']})\n",
    "gp_month_mean.columns = ['month_mean']\n",
    "gp_month_mean.reset_index(inplace=True)\n",
    "# Add meand encoding features to train set.\n",
    "train_set = pd.merge(train_set, gp_shop_mean, on=['shop_id'], how='left')\n",
    "train_set = pd.merge(train_set, gp_item_mean, on=['item_id'], how='left')\n",
    "train_set = pd.merge(train_set, gp_shop_item_mean, on=['shop_id', 'item_id'], how='left')\n",
    "train_set = pd.merge(train_set, gp_year_mean, on=['year'], how='left')\n",
    "train_set = pd.merge(train_set, gp_month_mean, on=['month'], how='left')\n",
    "# Add meand encoding features to validation set.\n",
    "validation_set = pd.merge(validation_set, gp_shop_mean, on=['shop_id'], how='left')\n",
    "validation_set = pd.merge(validation_set, gp_item_mean, on=['item_id'], how='left')\n",
    "validation_set = pd.merge(validation_set, gp_shop_item_mean, on=['shop_id', 'item_id'], how='left')\n",
    "validation_set = pd.merge(validation_set, gp_year_mean, on=['year'], how='left')\n",
    "validation_set = pd.merge(validation_set, gp_month_mean, on=['month'], how='left')"
   ]
  },
  {
   "cell_type": "code",
   "execution_count": 7,
   "id": "03612b73",
   "metadata": {},
   "outputs": [],
   "source": [
    "# 构建X，y\n",
    "X_train = train_set.drop(['item_cnt_month', 'date_block_num'], axis=1)\n",
    "Y_train = train_set['item_cnt_month'].astype(int)\n",
    "X_validation = validation_set.drop(['item_cnt_month', 'date_block_num'], axis=1)\n",
    "Y_validation = validation_set['item_cnt_month'].astype(int)"
   ]
  },
  {
   "cell_type": "code",
   "execution_count": 8,
   "id": "b55b4549",
   "metadata": {},
   "outputs": [],
   "source": [
    "int_features = ['shop_id', 'item_id', 'year', 'month']\n",
    "X_train[int_features] = X_train[int_features].astype('int32')\n",
    "X_validation[int_features] = X_validation[int_features].astype('int32')"
   ]
  },
  {
   "cell_type": "markdown",
   "id": "0e3dd447",
   "metadata": {},
   "source": [
    "对测试集进行缺失特征的填充，填充规则为最近的一个月的特征"
   ]
  },
  {
   "cell_type": "code",
   "execution_count": 9,
   "id": "bbdbd804",
   "metadata": {},
   "outputs": [],
   "source": [
    "latest_records = pd.concat([train_set, validation_set]).drop_duplicates(subset=['shop_id', 'item_id'], keep='last')\n",
    "#latest_records为每个shop_id,item_id组合的最新的特征记录，如果每验证集的最后一个月出现了某种组合，则该组合特征记录一定是在最有一个月，如果最后一个月没有，则找最近的一个月份的\n",
    "X_test = pd.merge(data_test, latest_records, on=['shop_id', 'item_id'], how='left', suffixes=['', '_'])  #让每个组合拥有最近的记录"
   ]
  },
  {
   "cell_type": "code",
   "execution_count": 10,
   "id": "2e58a813",
   "metadata": {},
   "outputs": [],
   "source": [
    "X_test['year'] = 2015\n",
    "X_test['month'] = 11\n",
    "X_test.drop('item_cnt_month', axis=1, inplace=True)\n",
    "X_test[int_features] = X_test[int_features].astype('int32')\n",
    "X_test = X_test[X_train.columns]"
   ]
  },
  {
   "cell_type": "code",
   "execution_count": 16,
   "id": "14aad84b",
   "metadata": {},
   "outputs": [],
   "source": [
    "# 删掉品类id\n",
    "X_train.drop(['item_category_id'], axis=1, inplace=True)\n",
    "X_validation.drop(['item_category_id'], axis=1, inplace=True)\n",
    "X_test.drop(['item_category_id'], axis=1, inplace=True)"
   ]
  },
  {
   "cell_type": "code",
   "execution_count": 77,
   "id": "bc64bcfc",
   "metadata": {},
   "outputs": [],
   "source": [
    "# 保存训练集，验证集和测试集\n",
    "X_train.to_csv('./datasets/X_train.csv')\n",
    "X_validation.to_csv('./datasets/X_validation.csv')\n",
    "X_test.to_csv('./datasets/X_test.csv')"
   ]
  },
  {
   "cell_type": "code",
   "execution_count": 78,
   "id": "cf3a8bb7",
   "metadata": {},
   "outputs": [],
   "source": [
    "Y_train.to_csv('./datasets/Y_train.csv')\n",
    "Y_validation.to_csv('./datasets/Y_validation.csv')"
   ]
  },
  {
   "cell_type": "code",
   "execution_count": 25,
   "id": "89593c03",
   "metadata": {},
   "outputs": [
    {
     "name": "stdout",
     "output_type": "stream",
     "text": [
      "Learning rate set to 0.359493\n",
      "0:\tlearn: 0.6981646\ttest: 0.7106132\tbest: 0.7106132 (0)\ttotal: 5.1s\tremaining: 42m 26s\n",
      "50:\tlearn: 0.1308273\ttest: 0.1598689\tbest: 0.1598689 (50)\ttotal: 2m 41s\tremaining: 23m 45s\n",
      "100:\tlearn: 0.0874025\ttest: 0.1199434\tbest: 0.1199434 (100)\ttotal: 5m\tremaining: 19m 46s\n",
      "150:\tlearn: 0.0667480\ttest: 0.1028085\tbest: 0.1027662 (149)\ttotal: 7m 14s\tremaining: 16m 44s\n",
      "200:\tlearn: 0.0555717\ttest: 0.0960671\tbest: 0.0960671 (200)\ttotal: 9m 32s\tremaining: 14m 12s\n",
      "250:\tlearn: 0.0472214\ttest: 0.0901467\tbest: 0.0901315 (249)\ttotal: 11m 45s\tremaining: 11m 39s\n",
      "300:\tlearn: 0.0415827\ttest: 0.0872966\tbest: 0.0872966 (300)\ttotal: 14m 2s\tremaining: 9m 16s\n",
      "350:\tlearn: 0.0375041\ttest: 0.0846717\tbest: 0.0846490 (347)\ttotal: 16m 17s\tremaining: 6m 54s\n",
      "400:\tlearn: 0.0337629\ttest: 0.0831924\tbest: 0.0831705 (398)\ttotal: 18m 29s\tremaining: 4m 33s\n",
      "450:\tlearn: 0.0310485\ttest: 0.0816798\tbest: 0.0816798 (450)\ttotal: 20m 43s\tremaining: 2m 15s\n",
      "499:\tlearn: 0.0287284\ttest: 0.0810800\tbest: 0.0810760 (497)\ttotal: 22m 56s\tremaining: 0us\n",
      "\n",
      "bestTest = 0.08107601318\n",
      "bestIteration = 497\n",
      "\n",
      "Shrink model to first 498 iterations.\n"
     ]
    },
    {
     "data": {
      "text/plain": [
       "<catboost.core.CatBoostRegressor at 0x24d108bb4c8>"
      ]
     },
     "execution_count": 25,
     "metadata": {},
     "output_type": "execute_result"
    }
   ],
   "source": [
    "from catboost import CatBoostRegressor\n",
    "cat_features = [0, 1, 7, 8]\n",
    " \n",
    "catboost_model = CatBoostRegressor(\n",
    "    iterations=500,\n",
    "    max_ctr_complexity=4,\n",
    "    random_seed=0,\n",
    "    od_type='Iter',\n",
    "    od_wait=25,\n",
    "    verbose=50,\n",
    "    depth=4\n",
    ")\n",
    " \n",
    "catboost_model.fit(\n",
    "    X_train, Y_train,\n",
    "    cat_features=cat_features,\n",
    "    eval_set=(X_validation, Y_validation)\n",
    ")"
   ]
  },
  {
   "cell_type": "markdown",
   "id": "e57d33cf",
   "metadata": {},
   "source": [
    "特征重要性"
   ]
  },
  {
   "cell_type": "code",
   "execution_count": 56,
   "id": "342b54a0",
   "metadata": {},
   "outputs": [
    {
     "data": {
      "image/png": "[encoded data removed]",
      "text/plain": [
       "<Figure size 432x288 with 1 Axes>"
      ]
     },
     "metadata": {
      "needs_background": "light"
     },
     "output_type": "display_data"
    }
   ],
   "source": [
    "plt.rcParams['font.family'] = 'SimHei'\n",
    "pd.concat([pd.DataFrame(data=np.array(catboost_model.feature_names_).reshape(-1,1),columns=['feature_name'])\n",
    "           ,pd.DataFrame(data=catboost_model.feature_importances_,columns=['feature_score'])]\n",
    "          ,axis=1).set_index('feature_name').plot(kind='bar')\n",
    "plt.title('特征重要性')\n",
    "plt.show()"
   ]
  },
  {
   "cell_type": "code",
   "execution_count": 34,
   "id": "5df81db5",
   "metadata": {},
   "outputs": [],
   "source": [
    "from sklearn.metrics import mean_squared_error as mse\n",
    "Y_valid_pre = catboost_model.predict(X_validation)"
   ]
  },
  {
   "cell_type": "code",
   "execution_count": 35,
   "id": "39e3d5d7",
   "metadata": {},
   "outputs": [
    {
     "data": {
      "text/plain": [
       "0.9989572656506853"
      ]
     },
     "execution_count": 35,
     "metadata": {},
     "output_type": "execute_result"
    }
   ],
   "source": [
    "# 拟合系数\n",
    "catboost_model.score(X_train,Y_train)"
   ]
  },
  {
   "cell_type": "code",
   "execution_count": 36,
   "id": "7b5df60f",
   "metadata": {},
   "outputs": [
    {
     "data": {
      "text/plain": [
       "0.08107601317625766"
      ]
     },
     "execution_count": 36,
     "metadata": {},
     "output_type": "execute_result"
    }
   ],
   "source": [
    "# RMSE\n",
    "mse(Y_validation,Y_valid_pre) ** 0.5"
   ]
  },
  {
   "cell_type": "code",
   "execution_count": 65,
   "id": "4990fad7",
   "metadata": {},
   "outputs": [],
   "source": [
    "# 预测\n",
    "Y_test_pre = catboost_model.predict(X_test).clip(0.,20.)"
   ]
  },
  {
   "cell_type": "code",
   "execution_count": 66,
   "id": "735fc50f",
   "metadata": {},
   "outputs": [
    {
     "data": {
      "text/plain": [
       "array([0.00000000e+00, 4.34159365e-05, 9.62900785e-01, ...,\n",
       "       1.33551044e-04, 8.85263126e-04, 1.22320532e-04])"
      ]
     },
     "execution_count": 66,
     "metadata": {},
     "output_type": "execute_result"
    }
   ],
   "source": [
    "Y_test_pre"
   ]
  },
  {
   "cell_type": "code",
   "execution_count": 67,
   "id": "21d505f1",
   "metadata": {},
   "outputs": [],
   "source": [
    "data_sub = pd.read_csv('./sample_submission.csv')\n",
    "data_sub['item_cnt_month'] = y_test_pre"
   ]
  },
  {
   "cell_type": "code",
   "execution_count": 79,
   "id": "578ed30c",
   "metadata": {},
   "outputs": [],
   "source": [
    "data_sub.to_csv('./Submission.csv',index=False)"
   ]
  },
  {
   "cell_type": "code",
   "execution_count": null,
   "id": "133b58d1",
   "metadata": {},
   "outputs": [],
   "source": []
  }
 ],
 "metadata": {
  "kernelspec": {
   "display_name": "Python 3",
   "language": "python",
   "name": "python3"
  },
  "language_info": {
   "codemirror_mode": {
    "name": "ipython",
    "version": 3
   },
   "file_extension": ".py",
   "mimetype": "text/x-python",
   "name": "python",
   "nbconvert_exporter": "python",
   "pygments_lexer": "ipython3",
   "version": "3.7.8"
  }
 },
 "nbformat": 4,
 "nbformat_minor": 5
}
